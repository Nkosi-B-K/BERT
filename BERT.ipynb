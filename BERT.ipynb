{
 "cells": [
  {
   "cell_type": "code",
   "execution_count": 1,
   "id": "5b8501ce-1b93-4e3f-9f9a-8a79137a2d0f",
   "metadata": {},
   "outputs": [],
   "source": [
    "from transformers import BertForQuestionAnswering\n",
    "from transformers import BertTokenizer\n",
    "import torch"
   ]
  },
  {
   "cell_type": "code",
   "execution_count": 2,
   "id": "f8dc040f-3293-4ffe-b50f-d8b142d240e8",
   "metadata": {},
   "outputs": [],
   "source": [
    "model_name = \"google-bert/bert-large-uncased-whole-word-masking-finetuned-squad\""
   ]
  },
  {
   "cell_type": "code",
   "execution_count": 3,
   "id": "e7caba5f-74dd-43fb-86c8-46d1d6caa293",
   "metadata": {},
   "outputs": [
    {
     "name": "stderr",
     "output_type": "stream",
     "text": [
      "Some weights of the model checkpoint at google-bert/bert-large-uncased-whole-word-masking-finetuned-squad were not used when initializing BertForQuestionAnswering: ['bert.pooler.dense.bias', 'bert.pooler.dense.weight']\n",
      "- This IS expected if you are initializing BertForQuestionAnswering from the checkpoint of a model trained on another task or with another architecture (e.g. initializing a BertForSequenceClassification model from a BertForPreTraining model).\n",
      "- This IS NOT expected if you are initializing BertForQuestionAnswering from the checkpoint of a model that you expect to be exactly identical (initializing a BertForSequenceClassification model from a BertForSequenceClassification model).\n"
     ]
    }
   ],
   "source": [
    "model = BertForQuestionAnswering.from_pretrained(model_name)"
   ]
  },
  {
   "cell_type": "code",
   "execution_count": 4,
   "id": "4b4412e4-7060-4d50-8a75-d54838a0bbc2",
   "metadata": {},
   "outputs": [],
   "source": [
    "tokenizer = BertTokenizer.from_pretrained(model_name)"
   ]
  },
  {
   "cell_type": "code",
   "execution_count": 5,
   "id": "9adfea21-614d-41ad-b2a0-507c6dc33e8a",
   "metadata": {},
   "outputs": [],
   "source": [
    "# EMBEDDINGS"
   ]
  },
  {
   "cell_type": "code",
   "execution_count": 6,
   "id": "234f9122-7fca-4238-9d4f-aa23c3ccb5df",
   "metadata": {},
   "outputs": [],
   "source": [
    "# example question and text containing the answer\n",
    "question = \"When was the first light bulb created?\"\n",
    "answer_document = \"The first practical lightbulb was created by Thomas Edison in 1879.\""
   ]
  },
  {
   "cell_type": "code",
   "execution_count": 7,
   "id": "21b4dfb9-7169-4395-a867-eda884e7f57b",
   "metadata": {},
   "outputs": [],
   "source": [
    "encoding = tokenizer.encode_plus(text=question, text_pair=answer_document)"
   ]
  },
  {
   "cell_type": "code",
   "execution_count": 8,
   "id": "e4ed4dd0-5f0e-422e-bf97-b5ea9c7cb015",
   "metadata": {},
   "outputs": [
    {
     "name": "stdout",
     "output_type": "stream",
     "text": [
      "{'input_ids': [101, 2043, 2001, 1996, 2034, 2422, 20581, 2580, 1029, 102, 1996, 2034, 6742, 2422, 8569, 20850, 2001, 2580, 2011, 2726, 17046, 1999, 7449, 1012, 102], 'token_type_ids': [0, 0, 0, 0, 0, 0, 0, 0, 0, 0, 1, 1, 1, 1, 1, 1, 1, 1, 1, 1, 1, 1, 1, 1, 1], 'attention_mask': [1, 1, 1, 1, 1, 1, 1, 1, 1, 1, 1, 1, 1, 1, 1, 1, 1, 1, 1, 1, 1, 1, 1, 1, 1]}\n"
     ]
    }
   ],
   "source": [
    "print(encoding)"
   ]
  },
  {
   "cell_type": "code",
   "execution_count": 9,
   "id": "ab37f2ce-b621-4866-afce-70da5c726504",
   "metadata": {},
   "outputs": [],
   "source": [
    "inputs = encoding['input_ids']\n",
    "sentence_embedding = encoding['token_type_ids']\n",
    "tokens = tokenizer.convert_ids_to_tokens(inputs)"
   ]
  },
  {
   "cell_type": "code",
   "execution_count": 10,
   "id": "c5bf048f-6252-444d-b72c-e1f6b7961954",
   "metadata": {},
   "outputs": [
    {
     "data": {
      "text/plain": [
       "'[CLS]'"
      ]
     },
     "execution_count": 10,
     "metadata": {},
     "output_type": "execute_result"
    }
   ],
   "source": [
    "tokenizer.decode(101)"
   ]
  },
  {
   "cell_type": "code",
   "execution_count": 11,
   "id": "be41f589-1b8a-43fe-82f0-0204063dd534",
   "metadata": {},
   "outputs": [
    {
     "data": {
      "text/plain": [
       "'[SEP]'"
      ]
     },
     "execution_count": 11,
     "metadata": {},
     "output_type": "execute_result"
    }
   ],
   "source": [
    "tokenizer.decode(102)"
   ]
  },
  {
   "cell_type": "code",
   "execution_count": 12,
   "id": "63e62a96-abb7-4fe4-bce7-66c7814261c6",
   "metadata": {},
   "outputs": [],
   "source": [
    "output = model(input_ids = torch.tensor([inputs]), token_type_ids = torch.tensor([sentence_embedding]))"
   ]
  },
  {
   "cell_type": "code",
   "execution_count": 13,
   "id": "cc2c152d-8bf1-407b-b189-214fc48b5678",
   "metadata": {},
   "outputs": [],
   "source": [
    "#MODEL OUTPUT"
   ]
  },
  {
   "cell_type": "code",
   "execution_count": 14,
   "id": "c55f30ad-836c-438c-a8ca-aacfb31c81b9",
   "metadata": {},
   "outputs": [
    {
     "name": "stdout",
     "output_type": "stream",
     "text": [
      "tensor(22)\n",
      "tensor(22)\n"
     ]
    }
   ],
   "source": [
    "start_index = torch.argmax(output.start_logits)\n",
    "end_index = torch.argmax(output.end_logits)\n",
    "\n",
    "print(start_index)\n",
    "print(end_index)"
   ]
  },
  {
   "cell_type": "code",
   "execution_count": 15,
   "id": "6ecb95ae-869e-4058-847f-755020690c6c",
   "metadata": {},
   "outputs": [
    {
     "name": "stdout",
     "output_type": "stream",
     "text": [
      "1879\n"
     ]
    }
   ],
   "source": [
    "answer = ' '.join(tokens[start_index:end_index+1])\n",
    "print(answer)"
   ]
  },
  {
   "cell_type": "code",
   "execution_count": 16,
   "id": "1cf937e8-0717-49c7-b5c7-af232f7f833f",
   "metadata": {},
   "outputs": [],
   "source": [
    "# VISUALIZING THE DIFFERENT TOKENS AND PROBABILITY OF BEING THE START AND OR END TOKEN"
   ]
  },
  {
   "cell_type": "code",
   "execution_count": 17,
   "id": "a8162a66-b9dd-4e36-ba68-3136024190ff",
   "metadata": {},
   "outputs": [],
   "source": [
    "import matplotlib as plt\n",
    "import seaborn as sns"
   ]
  },
  {
   "cell_type": "code",
   "execution_count": 18,
   "id": "80cbd2a3-7c9a-481f-8414-bd9418a1d283",
   "metadata": {},
   "outputs": [],
   "source": [
    "s_scores = output.start_logits.detach().numpy().flatten()\n",
    "e_scores = output.end_logits.detach().numpy().flatten()"
   ]
  },
  {
   "cell_type": "code",
   "execution_count": 19,
   "id": "af0d4b05-2919-4b2b-a4e3-1a44d29d5a22",
   "metadata": {},
   "outputs": [],
   "source": [
    "token_labels = []\n",
    "for (i, token) in enumerate(tokens):\n",
    "    token_labels.append('{:} - {:>2}'.format(token, i))"
   ]
  },
  {
   "cell_type": "code",
   "execution_count": 20,
   "id": "131f819a-e63f-471f-b7ee-75f0e8dac44f",
   "metadata": {},
   "outputs": [
    {
     "name": "stderr",
     "output_type": "stream",
     "text": [
      "C:\\Users\\Nkosi\\AppData\\Local\\Temp\\ipykernel_26844\\1538046351.py:2: UserWarning: set_ticklabels() should only be used with a fixed number of ticks, i.e. after set_ticks() or using a FixedLocator.\n",
      "  ax.set_xticklabels(ax.get_xticklabels(), rotation=90, ha=\"center\")\n"
     ]
    },
    {
     "data": {
      "image/png": "[encoded data removed]",
      "text/plain": [
       "<Figure size 640x480 with 1 Axes>"
      ]
     },
     "metadata": {},
     "output_type": "display_data"
    }
   ],
   "source": [
    "ax = sns.barplot(x=token_labels, y=s_scores)\n",
    "ax.set_xticklabels(ax.get_xticklabels(), rotation=90, ha=\"center\")\n",
    "ax.grid(True)"
   ]
  },
  {
   "cell_type": "code",
   "execution_count": 21,
   "id": "01987d97-ac4c-48f7-825b-b72ec33329f9",
   "metadata": {},
   "outputs": [
    {
     "name": "stderr",
     "output_type": "stream",
     "text": [
      "C:\\Users\\Nkosi\\AppData\\Local\\Temp\\ipykernel_26844\\365763533.py:2: UserWarning: set_ticklabels() should only be used with a fixed number of ticks, i.e. after set_ticks() or using a FixedLocator.\n",
      "  ax.set_xticklabels(ax.get_xticklabels(), rotation=90, ha=\"center\")\n"
     ]
    },
    {
     "data": {
      "image/png": "[encoded data removed]",
      "text/plain": [
       "<Figure size 640x480 with 1 Axes>"
      ]
     },
     "metadata": {},
     "output_type": "display_data"
    }
   ],
   "source": [
    "ax = sns.barplot(x=token_labels, y=e_scores)\n",
    "ax.set_xticklabels(ax.get_xticklabels(), rotation=90, ha=\"center\")\n",
    "ax.grid(True)"
   ]
  },
  {
   "cell_type": "code",
   "execution_count": 22,
   "id": "36773d32-2a94-43b3-aef5-db70263b3dbf",
   "metadata": {},
   "outputs": [],
   "source": [
    "# QUESTION ANSWERING"
   ]
  },
  {
   "cell_type": "code",
   "execution_count": 23,
   "id": "6932690f-45bb-4e3a-ac89-556941d80a63",
   "metadata": {},
   "outputs": [
    {
     "name": "stdout",
     "output_type": "stream",
     "text": [
      "Khululeka Airways is a leading global airline that prides itself on delivering exceptional service and unforgettable travel experiences. Established in 2005, we have grown from a small regional carrier to an internationally recognized airline known for our commitment to comfort, safety, and reliability. At Khululeka, we understand that air travel is not just about getting from point A to point B—it’s about the journey. Whether you're flying for business or leisure, we aim to make every aspect of your experience as smooth and enjoyable as possible. From the moment you book your flight to the time you land at your destination, our team is dedicated to providing top-tier service with a personal touch.\n",
      "\n",
      "Khululeka’s fleet consists of state-of-the-art aircraft designed to provide comfort, efficiency, and safety. Our planes are equipped with the latest in-flight entertainment systems, Wi-Fi access, and comfortable seating to ensure a relaxed journey. We offer both short-haul and long-haul flights, serving major cities and vacation destinations across the globe. Khululeka Airways is proud to operate a state-of-the-art fleet of aircraft that prioritize safety, passenger comfort, and environmental sustainability. Our modern fleet includes a mix of cutting-edge long-haul and short-haul aircraft, featuring the latest technological innovations to ensure an exceptional flying experience boasting 10 Boeing 787 Dreamliners, 5 Boeing 737 MAXes, 10 Embraer E190-E2’s, and 10 Airbus A220s.\n"
     ]
    }
   ],
   "source": [
    "khululeka_airways_context = \"\"\"Khululeka Airways is a leading global airline that prides itself on delivering exceptional service and unforgettable travel experiences. Established in 2005, we have grown from a small regional carrier to an internationally recognized airline known for our commitment to comfort, safety, and reliability. At Khululeka, we understand that air travel is not just about getting from point A to point B—it’s about the journey. Whether you're flying for business or leisure, we aim to make every aspect of your experience as smooth and enjoyable as possible. From the moment you book your flight to the time you land at your destination, our team is dedicated to providing top-tier service with a personal touch.\n",
    "\n",
    "Khululeka’s fleet consists of state-of-the-art aircraft designed to provide comfort, efficiency, and safety. Our planes are equipped with the latest in-flight entertainment systems, Wi-Fi access, and comfortable seating to ensure a relaxed journey. We offer both short-haul and long-haul flights, serving major cities and vacation destinations across the globe. Khululeka Airways is proud to operate a state-of-the-art fleet of aircraft that prioritize safety, passenger comfort, and environmental sustainability. Our modern fleet includes a mix of cutting-edge long-haul and short-haul aircraft, featuring the latest technological innovations to ensure an exceptional flying experience boasting 10 Boeing 787 Dreamliners, 5 Boeing 737 MAXes, 10 Embraer E190-E2’s, and 10 Airbus A220s.\"\"\"\n",
    "\n",
    "print(khululeka_airways_context)"
   ]
  },
  {
   "cell_type": "code",
   "execution_count": 24,
   "id": "8c53a3e0-55dc-48ed-8b0d-8d0c2586e454",
   "metadata": {},
   "outputs": [],
   "source": [
    "def faq_bot(question):\n",
    "    context = khululeka_airways_context\n",
    "    input_ids = tokenizer.encode(question, context)\n",
    "    tokens = tokenizer.convert_ids_to_tokens(input_ids)\n",
    "    sep_idx = input_ids.index(tokenizer.sep_token_id)\n",
    "    num_seg_a = sep_idx + 1\n",
    "    num_seg_b = len(input_ids) - num_seg_a\n",
    "    segment_ids = [0]*num_seg_a + [1]*num_seg_b\n",
    "    output = model(torch.tensor([input_ids]), token_type_ids=torch.tensor([segment_ids]))\n",
    "    answer_start = torch.argmax(output.start_logits)\n",
    "    answer_end = torch.argmax(output.end_logits)\n",
    "\n",
    "    if answer_end >= answer_start:\n",
    "        answer = ' '.join(tokens[answer_start:answer_end+1])\n",
    "    else:\n",
    "        print(\"I don’t know how to answer this question, can you ask another one?\")\n",
    "\n",
    "    corrected_answer = ''\n",
    "    for word in answer.split():\n",
    "        if word[0:2] == '##':\n",
    "            corrected_answer += word[2:]\n",
    "        else:\n",
    "            corrected_answer += ' ' + word\n",
    "\n",
    "    return corrected_answer"
   ]
  },
  {
   "cell_type": "code",
   "execution_count": 25,
   "id": "f870c698-8f0a-4564-9f7e-497e6db91dec",
   "metadata": {},
   "outputs": [
    {
     "data": {
      "text/plain": [
       "' 2005'"
      ]
     },
     "execution_count": 25,
     "metadata": {},
     "output_type": "execute_result"
    }
   ],
   "source": [
    "faq_bot(\"When was khululeka airways established?\")"
   ]
  },
  {
   "cell_type": "code",
   "execution_count": 26,
   "id": "9cb25bae-b0a6-4518-83af-7d2bdb66cf49",
   "metadata": {},
   "outputs": [
    {
     "data": {
      "text/plain": [
       "' cutting - edge long - haul and short - haul aircraft , featuring the latest technological innovations to ensure an exceptional flying experience boasting 10 boeing 787 dreamliners , 5 boeing 737 maxes , 10 embraer e190 - e2 ’ s , and 10 airbus a220s'"
      ]
     },
     "execution_count": 26,
     "metadata": {},
     "output_type": "execute_result"
    }
   ],
   "source": [
    "faq_bot(\"What make of aircrafts are available?\")"
   ]
  },
  {
   "cell_type": "code",
   "execution_count": 27,
   "id": "f24aadfd-3f04-4c2a-a19d-b9218e018e68",
   "metadata": {},
   "outputs": [
    {
     "data": {
      "text/plain": [
       "' major cities and vacation destinations across the globe'"
      ]
     },
     "execution_count": 27,
     "metadata": {},
     "output_type": "execute_result"
    }
   ],
   "source": [
    "faq_bot(\"Where does khululeka airways operate?\")"
   ]
  }
 ],
 "metadata": {
  "kernelspec": {
   "display_name": "Python 3 (ipykernel)",
   "language": "python",
   "name": "python3"
  },
  "language_info": {
   "codemirror_mode": {
    "name": "ipython",
    "version": 3
   },
   "file_extension": ".py",
   "mimetype": "text/x-python",
   "name": "python",
   "nbconvert_exporter": "python",
   "pygments_lexer": "ipython3",
   "version": "3.12.3"
  }
 },
 "nbformat": 4,
 "nbformat_minor": 5
}
